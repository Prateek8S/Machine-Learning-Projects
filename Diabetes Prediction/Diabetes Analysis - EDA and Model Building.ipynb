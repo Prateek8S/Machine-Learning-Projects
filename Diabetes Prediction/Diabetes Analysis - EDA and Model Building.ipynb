{
 "cells": [
  {
   "cell_type": "markdown",
   "id": "dcc5b7b3",
   "metadata": {},
   "source": [
    "## <h2 align=\"center\"><font color = 'firebrick'>Diabetes Prediction and Exploratory Data Analysis </font></h2>"
   ]
  },
  {
   "cell_type": "markdown",
   "id": "83f1e2a4",
   "metadata": {},
   "source": [
    " ![alt text](https://i.pinimg.com/1200x/8d/81/a5/8d81a5c3d915bef79416f573d0d34bb1.jpg)"
   ]
  },
  {
   "cell_type": "markdown",
   "id": "beb0f261",
   "metadata": {},
   "source": [
    "## <div class =\"alert alert-warning\">About this project</div>"
   ]
  },
  {
   "cell_type": "markdown",
   "id": "d88d946a",
   "metadata": {},
   "source": [
    "> - The objective of this project is to diagnostically predict whether someone has diabetes or not based on certain diagnostic measurements included in the dataset.\n",
    "> - The dataset consists of several Medical Variables(Independent) and one Outcome Variable(Dependent)\n",
    "> - The independent variables in this data set are :-'Pregnancies', 'Glucose', 'BloodPressure', 'SkinThickness',\n",
    "'Insulin','BMI', 'DiabetesPedigreeFunction', and 'Age'\n",
    "> - The outcome variable value is either 1 or 0 indicating whether a person has diabetes(1) or not(0)."
   ]
  },
  {
   "cell_type": "markdown",
   "id": "9c9ed049",
   "metadata": {},
   "source": [
    "## <div class =\"alert alert-warning\">About the dataset</div>"
   ]
  },
  {
   "cell_type": "markdown",
   "id": "75b6ee8c",
   "metadata": {},
   "source": [
    "> - Pregnancies: No. of times pregnant\n",
    "> - Glucose: Plasma Glucose Concentration (mg/dl)\n",
    "> - Blood Pressure: Diastolic Blood Pressure(mmHg)\n",
    "> - Skin Thickness: A value used to estimate body fat. Normal Triceps SkinFold Thickness in women is 23mm. Higher thickness leads to obesity and chances of diabetes increases.\n",
    "> - Insulin: 2-Hour Serum Insulin (mcU/mL)\n",
    "> - BMI: Body Mass Index (weight in kg/ height in m2)\n",
    "> - Diabetes Pedigree Function: It provides information about diabetes history in relatives and genetic relationship of those relatives with patients. Higher Pedigree Function means patient is more likely to have diabetes.\n",
    "> - Age: Age (years)\n",
    "> - Outcome: Class Variable (0 or 1) where ‘0’ denotes patient is not having diabetes and ‘1’ denotes patient having diabetes."
   ]
  },
  {
   "cell_type": "markdown",
   "id": "5f018a4f",
   "metadata": {},
   "source": [
    "### <font color = 'teal'>Importing required libraries</font>"
   ]
  },
  {
   "cell_type": "code",
   "execution_count": 1,
   "id": "fc110c3b",
   "metadata": {},
   "outputs": [],
   "source": [
    "import numpy as np\n",
    "import pandas as pd\n",
    "import matplotlib.pyplot as plt\n",
    "%matplotlib inline\n",
    "import seaborn as sns\n",
    "from sklearn import linear_model\n",
    "import warnings\n",
    "warnings.filterwarnings('ignore')"
   ]
  },
  {
   "cell_type": "markdown",
   "id": "acb0e586",
   "metadata": {},
   "source": [
    "### <font color = 'teal'>Loading the dataset</font>"
   ]
  },
  {
   "cell_type": "code",
   "execution_count": 2,
   "id": "6bdfbbdd",
   "metadata": {},
   "outputs": [
    {
     "data": {
      "text/html": [
       "<div>\n",
       "<style scoped>\n",
       "    .dataframe tbody tr th:only-of-type {\n",
       "        vertical-align: middle;\n",
       "    }\n",
       "\n",
       "    .dataframe tbody tr th {\n",
       "        vertical-align: top;\n",
       "    }\n",
       "\n",
       "    .dataframe thead th {\n",
       "        text-align: right;\n",
       "    }\n",
       "</style>\n",
       "<table border=\"1\" class=\"dataframe\">\n",
       "  <thead>\n",
       "    <tr style=\"text-align: right;\">\n",
       "      <th></th>\n",
       "      <th>Pregnancies</th>\n",
       "      <th>Glucose</th>\n",
       "      <th>BloodPressure</th>\n",
       "      <th>SkinThickness</th>\n",
       "      <th>Insulin</th>\n",
       "      <th>BMI</th>\n",
       "      <th>DiabetesPedigreeFunction</th>\n",
       "      <th>Age</th>\n",
       "      <th>Outcome</th>\n",
       "    </tr>\n",
       "  </thead>\n",
       "  <tbody>\n",
       "    <tr>\n",
       "      <th>0</th>\n",
       "      <td>6</td>\n",
       "      <td>148</td>\n",
       "      <td>72</td>\n",
       "      <td>35</td>\n",
       "      <td>0</td>\n",
       "      <td>33.6</td>\n",
       "      <td>0.627</td>\n",
       "      <td>50</td>\n",
       "      <td>1</td>\n",
       "    </tr>\n",
       "    <tr>\n",
       "      <th>1</th>\n",
       "      <td>1</td>\n",
       "      <td>85</td>\n",
       "      <td>66</td>\n",
       "      <td>29</td>\n",
       "      <td>0</td>\n",
       "      <td>26.6</td>\n",
       "      <td>0.351</td>\n",
       "      <td>31</td>\n",
       "      <td>0</td>\n",
       "    </tr>\n",
       "    <tr>\n",
       "      <th>2</th>\n",
       "      <td>8</td>\n",
       "      <td>183</td>\n",
       "      <td>64</td>\n",
       "      <td>0</td>\n",
       "      <td>0</td>\n",
       "      <td>23.3</td>\n",
       "      <td>0.672</td>\n",
       "      <td>32</td>\n",
       "      <td>1</td>\n",
       "    </tr>\n",
       "    <tr>\n",
       "      <th>3</th>\n",
       "      <td>1</td>\n",
       "      <td>89</td>\n",
       "      <td>66</td>\n",
       "      <td>23</td>\n",
       "      <td>94</td>\n",
       "      <td>28.1</td>\n",
       "      <td>0.167</td>\n",
       "      <td>21</td>\n",
       "      <td>0</td>\n",
       "    </tr>\n",
       "    <tr>\n",
       "      <th>4</th>\n",
       "      <td>0</td>\n",
       "      <td>137</td>\n",
       "      <td>40</td>\n",
       "      <td>35</td>\n",
       "      <td>168</td>\n",
       "      <td>43.1</td>\n",
       "      <td>2.288</td>\n",
       "      <td>33</td>\n",
       "      <td>1</td>\n",
       "    </tr>\n",
       "    <tr>\n",
       "      <th>5</th>\n",
       "      <td>5</td>\n",
       "      <td>116</td>\n",
       "      <td>74</td>\n",
       "      <td>0</td>\n",
       "      <td>0</td>\n",
       "      <td>25.6</td>\n",
       "      <td>0.201</td>\n",
       "      <td>30</td>\n",
       "      <td>0</td>\n",
       "    </tr>\n",
       "    <tr>\n",
       "      <th>6</th>\n",
       "      <td>3</td>\n",
       "      <td>78</td>\n",
       "      <td>50</td>\n",
       "      <td>32</td>\n",
       "      <td>88</td>\n",
       "      <td>31.0</td>\n",
       "      <td>0.248</td>\n",
       "      <td>26</td>\n",
       "      <td>1</td>\n",
       "    </tr>\n",
       "    <tr>\n",
       "      <th>7</th>\n",
       "      <td>10</td>\n",
       "      <td>115</td>\n",
       "      <td>0</td>\n",
       "      <td>0</td>\n",
       "      <td>0</td>\n",
       "      <td>35.3</td>\n",
       "      <td>0.134</td>\n",
       "      <td>29</td>\n",
       "      <td>0</td>\n",
       "    </tr>\n",
       "    <tr>\n",
       "      <th>8</th>\n",
       "      <td>2</td>\n",
       "      <td>197</td>\n",
       "      <td>70</td>\n",
       "      <td>45</td>\n",
       "      <td>543</td>\n",
       "      <td>30.5</td>\n",
       "      <td>0.158</td>\n",
       "      <td>53</td>\n",
       "      <td>1</td>\n",
       "    </tr>\n",
       "    <tr>\n",
       "      <th>9</th>\n",
       "      <td>8</td>\n",
       "      <td>125</td>\n",
       "      <td>96</td>\n",
       "      <td>0</td>\n",
       "      <td>0</td>\n",
       "      <td>0.0</td>\n",
       "      <td>0.232</td>\n",
       "      <td>54</td>\n",
       "      <td>1</td>\n",
       "    </tr>\n",
       "  </tbody>\n",
       "</table>\n",
       "</div>"
      ],
      "text/plain": [
       "   Pregnancies  Glucose  BloodPressure  SkinThickness  Insulin   BMI  \\\n",
       "0            6      148             72             35        0  33.6   \n",
       "1            1       85             66             29        0  26.6   \n",
       "2            8      183             64              0        0  23.3   \n",
       "3            1       89             66             23       94  28.1   \n",
       "4            0      137             40             35      168  43.1   \n",
       "5            5      116             74              0        0  25.6   \n",
       "6            3       78             50             32       88  31.0   \n",
       "7           10      115              0              0        0  35.3   \n",
       "8            2      197             70             45      543  30.5   \n",
       "9            8      125             96              0        0   0.0   \n",
       "\n",
       "   DiabetesPedigreeFunction  Age  Outcome  \n",
       "0                     0.627   50        1  \n",
       "1                     0.351   31        0  \n",
       "2                     0.672   32        1  \n",
       "3                     0.167   21        0  \n",
       "4                     2.288   33        1  \n",
       "5                     0.201   30        0  \n",
       "6                     0.248   26        1  \n",
       "7                     0.134   29        0  \n",
       "8                     0.158   53        1  \n",
       "9                     0.232   54        1  "
      ]
     },
     "execution_count": 2,
     "metadata": {},
     "output_type": "execute_result"
    }
   ],
   "source": [
    "data = pd.read_csv('diabetes.csv')\n",
    "data.head(10)"
   ]
  },
  {
   "cell_type": "markdown",
   "id": "c10d9012",
   "metadata": {},
   "source": [
    "## <div class =\"alert alert-warning\">Exploratory Data Analysis</div>"
   ]
  },
  {
   "cell_type": "markdown",
   "id": "dd09abb2",
   "metadata": {},
   "source": [
    "### <font color = 'teal'>Understanding the dataset</font>"
   ]
  },
  {
   "cell_type": "code",
   "execution_count": 3,
   "id": "f78f6175",
   "metadata": {},
   "outputs": [
    {
     "name": "stdout",
     "output_type": "stream",
     "text": [
      "The number of rows in the dataframe is: 768 \n",
      "The number of columns in the dataframe is: 9 \n",
      "\n"
     ]
    }
   ],
   "source": [
    "# Number Of Rows and Columns In the DataFrame\n",
    "\n",
    "print(f'The number of rows in the dataframe is: {data.shape[0]} \\nThe number of columns in the dataframe is: {data.shape[1]} \\n')"
   ]
  },
  {
   "cell_type": "code",
   "execution_count": 4,
   "id": "edbd0ce7",
   "metadata": {},
   "outputs": [
    {
     "data": {
      "text/html": [
       "<div>\n",
       "<style scoped>\n",
       "    .dataframe tbody tr th:only-of-type {\n",
       "        vertical-align: middle;\n",
       "    }\n",
       "\n",
       "    .dataframe tbody tr th {\n",
       "        vertical-align: top;\n",
       "    }\n",
       "\n",
       "    .dataframe thead th {\n",
       "        text-align: right;\n",
       "    }\n",
       "</style>\n",
       "<table border=\"1\" class=\"dataframe\">\n",
       "  <thead>\n",
       "    <tr style=\"text-align: right;\">\n",
       "      <th></th>\n",
       "      <th>count</th>\n",
       "      <th>mean</th>\n",
       "      <th>std</th>\n",
       "      <th>min</th>\n",
       "      <th>25%</th>\n",
       "      <th>50%</th>\n",
       "      <th>75%</th>\n",
       "      <th>max</th>\n",
       "    </tr>\n",
       "  </thead>\n",
       "  <tbody>\n",
       "    <tr>\n",
       "      <th>Pregnancies</th>\n",
       "      <td>768.0</td>\n",
       "      <td>3.845052</td>\n",
       "      <td>3.369578</td>\n",
       "      <td>0.000</td>\n",
       "      <td>1.00000</td>\n",
       "      <td>3.0000</td>\n",
       "      <td>6.00000</td>\n",
       "      <td>17.00</td>\n",
       "    </tr>\n",
       "    <tr>\n",
       "      <th>Glucose</th>\n",
       "      <td>768.0</td>\n",
       "      <td>120.894531</td>\n",
       "      <td>31.972618</td>\n",
       "      <td>0.000</td>\n",
       "      <td>99.00000</td>\n",
       "      <td>117.0000</td>\n",
       "      <td>140.25000</td>\n",
       "      <td>199.00</td>\n",
       "    </tr>\n",
       "    <tr>\n",
       "      <th>BloodPressure</th>\n",
       "      <td>768.0</td>\n",
       "      <td>69.105469</td>\n",
       "      <td>19.355807</td>\n",
       "      <td>0.000</td>\n",
       "      <td>62.00000</td>\n",
       "      <td>72.0000</td>\n",
       "      <td>80.00000</td>\n",
       "      <td>122.00</td>\n",
       "    </tr>\n",
       "    <tr>\n",
       "      <th>SkinThickness</th>\n",
       "      <td>768.0</td>\n",
       "      <td>20.536458</td>\n",
       "      <td>15.952218</td>\n",
       "      <td>0.000</td>\n",
       "      <td>0.00000</td>\n",
       "      <td>23.0000</td>\n",
       "      <td>32.00000</td>\n",
       "      <td>99.00</td>\n",
       "    </tr>\n",
       "    <tr>\n",
       "      <th>Insulin</th>\n",
       "      <td>768.0</td>\n",
       "      <td>79.799479</td>\n",
       "      <td>115.244002</td>\n",
       "      <td>0.000</td>\n",
       "      <td>0.00000</td>\n",
       "      <td>30.5000</td>\n",
       "      <td>127.25000</td>\n",
       "      <td>846.00</td>\n",
       "    </tr>\n",
       "    <tr>\n",
       "      <th>BMI</th>\n",
       "      <td>768.0</td>\n",
       "      <td>31.992578</td>\n",
       "      <td>7.884160</td>\n",
       "      <td>0.000</td>\n",
       "      <td>27.30000</td>\n",
       "      <td>32.0000</td>\n",
       "      <td>36.60000</td>\n",
       "      <td>67.10</td>\n",
       "    </tr>\n",
       "    <tr>\n",
       "      <th>DiabetesPedigreeFunction</th>\n",
       "      <td>768.0</td>\n",
       "      <td>0.471876</td>\n",
       "      <td>0.331329</td>\n",
       "      <td>0.078</td>\n",
       "      <td>0.24375</td>\n",
       "      <td>0.3725</td>\n",
       "      <td>0.62625</td>\n",
       "      <td>2.42</td>\n",
       "    </tr>\n",
       "    <tr>\n",
       "      <th>Age</th>\n",
       "      <td>768.0</td>\n",
       "      <td>33.240885</td>\n",
       "      <td>11.760232</td>\n",
       "      <td>21.000</td>\n",
       "      <td>24.00000</td>\n",
       "      <td>29.0000</td>\n",
       "      <td>41.00000</td>\n",
       "      <td>81.00</td>\n",
       "    </tr>\n",
       "    <tr>\n",
       "      <th>Outcome</th>\n",
       "      <td>768.0</td>\n",
       "      <td>0.348958</td>\n",
       "      <td>0.476951</td>\n",
       "      <td>0.000</td>\n",
       "      <td>0.00000</td>\n",
       "      <td>0.0000</td>\n",
       "      <td>1.00000</td>\n",
       "      <td>1.00</td>\n",
       "    </tr>\n",
       "  </tbody>\n",
       "</table>\n",
       "</div>"
      ],
      "text/plain": [
       "                          count        mean         std     min       25%  \\\n",
       "Pregnancies               768.0    3.845052    3.369578   0.000   1.00000   \n",
       "Glucose                   768.0  120.894531   31.972618   0.000  99.00000   \n",
       "BloodPressure             768.0   69.105469   19.355807   0.000  62.00000   \n",
       "SkinThickness             768.0   20.536458   15.952218   0.000   0.00000   \n",
       "Insulin                   768.0   79.799479  115.244002   0.000   0.00000   \n",
       "BMI                       768.0   31.992578    7.884160   0.000  27.30000   \n",
       "DiabetesPedigreeFunction  768.0    0.471876    0.331329   0.078   0.24375   \n",
       "Age                       768.0   33.240885   11.760232  21.000  24.00000   \n",
       "Outcome                   768.0    0.348958    0.476951   0.000   0.00000   \n",
       "\n",
       "                               50%        75%     max  \n",
       "Pregnancies                 3.0000    6.00000   17.00  \n",
       "Glucose                   117.0000  140.25000  199.00  \n",
       "BloodPressure              72.0000   80.00000  122.00  \n",
       "SkinThickness              23.0000   32.00000   99.00  \n",
       "Insulin                    30.5000  127.25000  846.00  \n",
       "BMI                        32.0000   36.60000   67.10  \n",
       "DiabetesPedigreeFunction    0.3725    0.62625    2.42  \n",
       "Age                        29.0000   41.00000   81.00  \n",
       "Outcome                     0.0000    1.00000    1.00  "
      ]
     },
     "execution_count": 4,
     "metadata": {},
     "output_type": "execute_result"
    }
   ],
   "source": [
    "# Checking Statistical Data Of the DataFrame\n",
    "\n",
    "data.describe().T"
   ]
  },
  {
   "cell_type": "markdown",
   "id": "bdd32233",
   "metadata": {},
   "source": [
    "> It is to be noted that some specific columns namely: 'Glucose','BloodPressure','SkinThickness','Insulin', and 'BMI' have 0 as the minimum value, which is __not possible__. We can treat these as null values and impute them accordingly. The number of pregnancies as 0 is possible."
   ]
  },
  {
   "cell_type": "code",
   "execution_count": 5,
   "id": "376ef022",
   "metadata": {
    "scrolled": true
   },
   "outputs": [
    {
     "data": {
      "text/html": [
       "<div>\n",
       "<style scoped>\n",
       "    .dataframe tbody tr th:only-of-type {\n",
       "        vertical-align: middle;\n",
       "    }\n",
       "\n",
       "    .dataframe tbody tr th {\n",
       "        vertical-align: top;\n",
       "    }\n",
       "\n",
       "    .dataframe thead th {\n",
       "        text-align: right;\n",
       "    }\n",
       "</style>\n",
       "<table border=\"1\" class=\"dataframe\">\n",
       "  <thead>\n",
       "    <tr style=\"text-align: right;\">\n",
       "      <th></th>\n",
       "      <th>zeroes</th>\n",
       "    </tr>\n",
       "  </thead>\n",
       "  <tbody>\n",
       "    <tr>\n",
       "      <th>BloodPressure</th>\n",
       "      <td>35</td>\n",
       "    </tr>\n",
       "    <tr>\n",
       "      <th>Glucose</th>\n",
       "      <td>5</td>\n",
       "    </tr>\n",
       "    <tr>\n",
       "      <th>SkinThickness</th>\n",
       "      <td>227</td>\n",
       "    </tr>\n",
       "    <tr>\n",
       "      <th>Insulin</th>\n",
       "      <td>374</td>\n",
       "    </tr>\n",
       "    <tr>\n",
       "      <th>BMI</th>\n",
       "      <td>11</td>\n",
       "    </tr>\n",
       "  </tbody>\n",
       "</table>\n",
       "</div>"
      ],
      "text/plain": [
       "               zeroes\n",
       "BloodPressure      35\n",
       "Glucose             5\n",
       "SkinThickness     227\n",
       "Insulin           374\n",
       "BMI                11"
      ]
     },
     "execution_count": 5,
     "metadata": {},
     "output_type": "execute_result"
    }
   ],
   "source": [
    "zeroes = pd.DataFrame({'BloodPressure': data[data['BloodPressure'] == 0].shape[0],\n",
    "                      'Glucose': data[data['Glucose'] == 0].shape[0],\n",
    "                      'SkinThickness': data[data['SkinThickness'] == 0].shape[0],\n",
    "                      'Insulin': data[data['Insulin'] == 0].shape[0],\n",
    "                      'BMI': data[data['BMI'] == 0].shape[0]}, index = ['zeroes'])\n",
    "\n",
    "\n",
    "zeroes.T"
   ]
  },
  {
   "cell_type": "code",
   "execution_count": 6,
   "id": "65c34d3c",
   "metadata": {},
   "outputs": [
    {
     "data": {
      "text/plain": [
       "False"
      ]
     },
     "execution_count": 6,
     "metadata": {},
     "output_type": "execute_result"
    }
   ],
   "source": [
    "# Checking for any missing values\n",
    "data.isnull().sum().any()"
   ]
  },
  {
   "cell_type": "markdown",
   "id": "f2ca349c",
   "metadata": {},
   "source": [
    "### <font color = 'teal'>Visualizing the specific columns</font>"
   ]
  },
  {
   "cell_type": "code",
   "execution_count": 7,
   "id": "91091d8f",
   "metadata": {},
   "outputs": [
    {
     "data": {
      "image/png": "[encoded data removed]",
      "text/plain": [
       "<Figure size 2600x600 with 5 Axes>"
      ]
     },
     "metadata": {},
     "output_type": "display_data"
    }
   ],
   "source": [
    "fig, axes = plt.subplots(1,5, figsize=(26,6))\n",
    "ax = axes.flatten()\n",
    "\n",
    "columns = data.columns[1:6]\n",
    "colours=['#3c6e71','#f07167','#457b9d','#da627d','#606c38'] \n",
    "\n",
    "# sns.set(rc={'figure.figsize':(20,5)})\n",
    "sns.set_style(style='white')\n",
    "for i, col in enumerate(columns): \n",
    "    plot = sns.distplot(data[col], ax =ax[i], hist=True, rug=False, color=colours[i])\n",
    "    ax[i].set_title(col)\n",
    "    ax[i].ticklabel_format(style='plain', axis='both')\n",
    "    plot.set(xlabel = None)\n",
    "    plot.set(ylabel = None)\n",
    "    plot.title.set_fontsize('25')\n",
    "\n",
    "fig.tight_layout(w_pad=1, h_pad=4)  # change padding         \n",
    "plt.show()"
   ]
  },
  {
   "cell_type": "markdown",
   "id": "3153e624",
   "metadata": {},
   "source": [
    "> These columns have __skewed or non-normal distribution__ and hence the mean is more affected by outliers than the median. Therefore, we replace the 0 values in these columns by the __median values__ since it is a better choice."
   ]
  },
  {
   "cell_type": "code",
   "execution_count": 8,
   "id": "127bbcc8",
   "metadata": {},
   "outputs": [],
   "source": [
    "# Replacing 0 values with median of that column\n",
    "\n",
    "data['Glucose'] = data['Glucose'].replace(0,data['Glucose'].median())\n",
    "data['BloodPressure'] = data['BloodPressure'].replace(0,data['BloodPressure'].median())\n",
    "data['SkinThickness'] = data['SkinThickness'].replace(0,data['SkinThickness'].median())\n",
    "data['Insulin'] = data['Insulin'].replace(0,data['Insulin'].median())\n",
    "data['BMI'] = data['BMI'].replace(0,data['BMI'].median())"
   ]
  },
  {
   "cell_type": "markdown",
   "id": "d6d807a2",
   "metadata": {},
   "source": [
    "### <font color = 'teal'>Plotting the Outcome column</font>\n"
   ]
  },
  {
   "cell_type": "markdown",
   "id": "0beb0d36",
   "metadata": {},
   "source": [
    "#### Barplot for the dependent variable"
   ]
  },
  {
   "cell_type": "code",
   "execution_count": 9,
   "id": "40e0f1c6",
   "metadata": {},
   "outputs": [
    {
     "data": {
      "image/png": "[encoded data removed]",
      "text/plain": [
       "<Figure size 500x400 with 1 Axes>"
      ]
     },
     "metadata": {},
     "output_type": "display_data"
    },
    {
     "name": "stdout",
     "output_type": "stream",
     "text": [
      "Healthy people:  65.1 percentage\n",
      "Diabetic people:  34.9 percentage\n"
     ]
    }
   ],
   "source": [
    "from matplotlib.pyplot import figure\n",
    "\n",
    "figure(figsize = (5,4))\n",
    "plt.rcParams['font.size'] = 8\n",
    "ax = sns.countplot(x= data['Outcome'], data=data, palette='hls', width = 0.5)\n",
    "ax.set_xticklabels(['Not-positive', 'Positive'])\n",
    "positive_perc = round(100*len(data[data['Outcome']==1])/len(data),2)\n",
    "non_positive_perc = round(100*len(data[data['Outcome']== 0])/len(data),2)\n",
    "\n",
    "plt.show()\n",
    "\n",
    "print('Healthy people: ', non_positive_perc,'percentage')\n",
    "print('Diabetic people: ', positive_perc,'percentage')\n"
   ]
  },
  {
   "cell_type": "markdown",
   "id": "336374d3",
   "metadata": {},
   "source": [
    "### <font color = 'teal'>Feature engineering</font>"
   ]
  },
  {
   "cell_type": "markdown",
   "id": "f1de10a1",
   "metadata": {},
   "source": [
    "Not using StandardScaler() since the data distribution across all the columns does not follow a normal distribution.\n",
    "\n"
   ]
  },
  {
   "cell_type": "code",
   "execution_count": 10,
   "id": "ed50f307",
   "metadata": {},
   "outputs": [
    {
     "data": {
      "text/html": [
       "<div>\n",
       "<style scoped>\n",
       "    .dataframe tbody tr th:only-of-type {\n",
       "        vertical-align: middle;\n",
       "    }\n",
       "\n",
       "    .dataframe tbody tr th {\n",
       "        vertical-align: top;\n",
       "    }\n",
       "\n",
       "    .dataframe thead th {\n",
       "        text-align: right;\n",
       "    }\n",
       "</style>\n",
       "<table border=\"1\" class=\"dataframe\">\n",
       "  <thead>\n",
       "    <tr style=\"text-align: right;\">\n",
       "      <th></th>\n",
       "      <th>Pregnancies</th>\n",
       "      <th>Glucose</th>\n",
       "      <th>BloodPressure</th>\n",
       "      <th>SkinThickness</th>\n",
       "      <th>Insulin</th>\n",
       "      <th>BMI</th>\n",
       "      <th>DiabetesPedigreeFunction</th>\n",
       "      <th>Age</th>\n",
       "      <th>Outcome</th>\n",
       "    </tr>\n",
       "  </thead>\n",
       "  <tbody>\n",
       "    <tr>\n",
       "      <th>0</th>\n",
       "      <td>0.352941</td>\n",
       "      <td>0.670968</td>\n",
       "      <td>0.489796</td>\n",
       "      <td>0.304348</td>\n",
       "      <td>0.019832</td>\n",
       "      <td>0.314928</td>\n",
       "      <td>0.234415</td>\n",
       "      <td>0.483333</td>\n",
       "      <td>1</td>\n",
       "    </tr>\n",
       "    <tr>\n",
       "      <th>1</th>\n",
       "      <td>0.058824</td>\n",
       "      <td>0.264516</td>\n",
       "      <td>0.428571</td>\n",
       "      <td>0.239130</td>\n",
       "      <td>0.019832</td>\n",
       "      <td>0.171779</td>\n",
       "      <td>0.116567</td>\n",
       "      <td>0.166667</td>\n",
       "      <td>0</td>\n",
       "    </tr>\n",
       "    <tr>\n",
       "      <th>2</th>\n",
       "      <td>0.470588</td>\n",
       "      <td>0.896774</td>\n",
       "      <td>0.408163</td>\n",
       "      <td>0.173913</td>\n",
       "      <td>0.019832</td>\n",
       "      <td>0.104294</td>\n",
       "      <td>0.253629</td>\n",
       "      <td>0.183333</td>\n",
       "      <td>1</td>\n",
       "    </tr>\n",
       "    <tr>\n",
       "      <th>3</th>\n",
       "      <td>0.058824</td>\n",
       "      <td>0.290323</td>\n",
       "      <td>0.428571</td>\n",
       "      <td>0.173913</td>\n",
       "      <td>0.096154</td>\n",
       "      <td>0.202454</td>\n",
       "      <td>0.038002</td>\n",
       "      <td>0.000000</td>\n",
       "      <td>0</td>\n",
       "    </tr>\n",
       "    <tr>\n",
       "      <th>4</th>\n",
       "      <td>0.000000</td>\n",
       "      <td>0.600000</td>\n",
       "      <td>0.163265</td>\n",
       "      <td>0.304348</td>\n",
       "      <td>0.185096</td>\n",
       "      <td>0.509202</td>\n",
       "      <td>0.943638</td>\n",
       "      <td>0.200000</td>\n",
       "      <td>1</td>\n",
       "    </tr>\n",
       "    <tr>\n",
       "      <th>5</th>\n",
       "      <td>0.294118</td>\n",
       "      <td>0.464516</td>\n",
       "      <td>0.510204</td>\n",
       "      <td>0.173913</td>\n",
       "      <td>0.019832</td>\n",
       "      <td>0.151329</td>\n",
       "      <td>0.052519</td>\n",
       "      <td>0.150000</td>\n",
       "      <td>0</td>\n",
       "    </tr>\n",
       "    <tr>\n",
       "      <th>6</th>\n",
       "      <td>0.176471</td>\n",
       "      <td>0.219355</td>\n",
       "      <td>0.265306</td>\n",
       "      <td>0.271739</td>\n",
       "      <td>0.088942</td>\n",
       "      <td>0.261759</td>\n",
       "      <td>0.072588</td>\n",
       "      <td>0.083333</td>\n",
       "      <td>1</td>\n",
       "    </tr>\n",
       "    <tr>\n",
       "      <th>7</th>\n",
       "      <td>0.588235</td>\n",
       "      <td>0.458065</td>\n",
       "      <td>0.489796</td>\n",
       "      <td>0.173913</td>\n",
       "      <td>0.019832</td>\n",
       "      <td>0.349693</td>\n",
       "      <td>0.023911</td>\n",
       "      <td>0.133333</td>\n",
       "      <td>0</td>\n",
       "    </tr>\n",
       "    <tr>\n",
       "      <th>8</th>\n",
       "      <td>0.117647</td>\n",
       "      <td>0.987097</td>\n",
       "      <td>0.469388</td>\n",
       "      <td>0.413043</td>\n",
       "      <td>0.635817</td>\n",
       "      <td>0.251534</td>\n",
       "      <td>0.034159</td>\n",
       "      <td>0.533333</td>\n",
       "      <td>1</td>\n",
       "    </tr>\n",
       "    <tr>\n",
       "      <th>9</th>\n",
       "      <td>0.470588</td>\n",
       "      <td>0.522581</td>\n",
       "      <td>0.734694</td>\n",
       "      <td>0.173913</td>\n",
       "      <td>0.019832</td>\n",
       "      <td>0.282209</td>\n",
       "      <td>0.065756</td>\n",
       "      <td>0.550000</td>\n",
       "      <td>1</td>\n",
       "    </tr>\n",
       "  </tbody>\n",
       "</table>\n",
       "</div>"
      ],
      "text/plain": [
       "   Pregnancies   Glucose  BloodPressure  SkinThickness   Insulin       BMI  \\\n",
       "0     0.352941  0.670968       0.489796       0.304348  0.019832  0.314928   \n",
       "1     0.058824  0.264516       0.428571       0.239130  0.019832  0.171779   \n",
       "2     0.470588  0.896774       0.408163       0.173913  0.019832  0.104294   \n",
       "3     0.058824  0.290323       0.428571       0.173913  0.096154  0.202454   \n",
       "4     0.000000  0.600000       0.163265       0.304348  0.185096  0.509202   \n",
       "5     0.294118  0.464516       0.510204       0.173913  0.019832  0.151329   \n",
       "6     0.176471  0.219355       0.265306       0.271739  0.088942  0.261759   \n",
       "7     0.588235  0.458065       0.489796       0.173913  0.019832  0.349693   \n",
       "8     0.117647  0.987097       0.469388       0.413043  0.635817  0.251534   \n",
       "9     0.470588  0.522581       0.734694       0.173913  0.019832  0.282209   \n",
       "\n",
       "   DiabetesPedigreeFunction       Age  Outcome  \n",
       "0                  0.234415  0.483333        1  \n",
       "1                  0.116567  0.166667        0  \n",
       "2                  0.253629  0.183333        1  \n",
       "3                  0.038002  0.000000        0  \n",
       "4                  0.943638  0.200000        1  \n",
       "5                  0.052519  0.150000        0  \n",
       "6                  0.072588  0.083333        1  \n",
       "7                  0.023911  0.133333        0  \n",
       "8                  0.034159  0.533333        1  \n",
       "9                  0.065756  0.550000        1  "
      ]
     },
     "execution_count": 10,
     "metadata": {},
     "output_type": "execute_result"
    }
   ],
   "source": [
    "# Using MinMaxScaler(), scaling those columns which have values greater than 1\n",
    "\n",
    "from sklearn.preprocessing import MinMaxScaler\n",
    "\n",
    "columns = [c for c in data.columns if data[c].max()>1]\n",
    "\n",
    "scaled_columns = MinMaxScaler().fit_transform(data[columns])\n",
    "scaled_columns = pd.DataFrame(scaled_columns, columns = columns)\n",
    "scaled_columns['Outcome'] = data['Outcome'] \n",
    "\n",
    "\n",
    "# Copying the scaled DataFrame to a new DataFrame\n",
    "\n",
    "diabetes = scaled_columns\n",
    "diabetes.head(10)"
   ]
  },
  {
   "cell_type": "markdown",
   "id": "a168bdbd",
   "metadata": {},
   "source": [
    "### <font color = 'teal'>Feature selection</font>"
   ]
  },
  {
   "cell_type": "code",
   "execution_count": 11,
   "id": "9a27ef34",
   "metadata": {},
   "outputs": [
    {
     "data": {
      "image/png": "[encoded data removed]",
      "text/plain": [
       "<Figure size 800x600 with 2 Axes>"
      ]
     },
     "metadata": {},
     "output_type": "display_data"
    }
   ],
   "source": [
    "# Correlation between all the features\n",
    "plt.figure(figsize=(8,6))\n",
    "\n",
    "#correlation matrix\n",
    "dataplot = sns.heatmap(diabetes.corr(), annot=True, fmt='.2f')"
   ]
  },
  {
   "cell_type": "markdown",
   "id": "70a76ab8",
   "metadata": {},
   "source": [
    "> This heatmap reflects the existing fetures in the dataset and their correlation scores with each and every feature. From the observation, it is clear that __Glucose, BMI__ and __Age__ are the __most correlated__ with Outcome while __BloodPressure, Insulin, SkinThickness__ and __DiabetesPedigreeFunction__ are the __least correlated__. As they do not contribute much to the model, we can drop them."
   ]
  },
  {
   "cell_type": "code",
   "execution_count": 12,
   "id": "e1f7a17c",
   "metadata": {},
   "outputs": [
    {
     "data": {
      "text/plain": [
       "['Pregnancies', 'Glucose', 'BMI', 'Age', 'Outcome']"
      ]
     },
     "execution_count": 12,
     "metadata": {},
     "output_type": "execute_result"
    }
   ],
   "source": [
    "df_selected= diabetes.drop(['BloodPressure', 'SkinThickness', 'Insulin','DiabetesPedigreeFunction'],axis='columns')\n",
    "list(df_selected.columns)"
   ]
  },
  {
   "cell_type": "markdown",
   "id": "47e5edee",
   "metadata": {},
   "source": [
    "### <font color = 'teal'>Splitting the dataset into features and target variables</font>"
   ]
  },
  {
   "cell_type": "code",
   "execution_count": 13,
   "id": "dae2ed08",
   "metadata": {},
   "outputs": [],
   "source": [
    "X = df_selected.drop(['Outcome'],axis=1) #Feature variables\n",
    "y = df_selected['Outcome'] #Target variable"
   ]
  },
  {
   "cell_type": "code",
   "execution_count": 14,
   "id": "c67ae614",
   "metadata": {
    "scrolled": true
   },
   "outputs": [
    {
     "data": {
      "text/html": [
       "<div>\n",
       "<style scoped>\n",
       "    .dataframe tbody tr th:only-of-type {\n",
       "        vertical-align: middle;\n",
       "    }\n",
       "\n",
       "    .dataframe tbody tr th {\n",
       "        vertical-align: top;\n",
       "    }\n",
       "\n",
       "    .dataframe thead th {\n",
       "        text-align: right;\n",
       "    }\n",
       "</style>\n",
       "<table border=\"1\" class=\"dataframe\">\n",
       "  <thead>\n",
       "    <tr style=\"text-align: right;\">\n",
       "      <th></th>\n",
       "      <th>Pregnancies</th>\n",
       "      <th>Glucose</th>\n",
       "      <th>BMI</th>\n",
       "      <th>Age</th>\n",
       "    </tr>\n",
       "  </thead>\n",
       "  <tbody>\n",
       "    <tr>\n",
       "      <th>0</th>\n",
       "      <td>0.352941</td>\n",
       "      <td>0.670968</td>\n",
       "      <td>0.314928</td>\n",
       "      <td>0.483333</td>\n",
       "    </tr>\n",
       "    <tr>\n",
       "      <th>1</th>\n",
       "      <td>0.058824</td>\n",
       "      <td>0.264516</td>\n",
       "      <td>0.171779</td>\n",
       "      <td>0.166667</td>\n",
       "    </tr>\n",
       "    <tr>\n",
       "      <th>2</th>\n",
       "      <td>0.470588</td>\n",
       "      <td>0.896774</td>\n",
       "      <td>0.104294</td>\n",
       "      <td>0.183333</td>\n",
       "    </tr>\n",
       "    <tr>\n",
       "      <th>3</th>\n",
       "      <td>0.058824</td>\n",
       "      <td>0.290323</td>\n",
       "      <td>0.202454</td>\n",
       "      <td>0.000000</td>\n",
       "    </tr>\n",
       "    <tr>\n",
       "      <th>4</th>\n",
       "      <td>0.000000</td>\n",
       "      <td>0.600000</td>\n",
       "      <td>0.509202</td>\n",
       "      <td>0.200000</td>\n",
       "    </tr>\n",
       "  </tbody>\n",
       "</table>\n",
       "</div>"
      ],
      "text/plain": [
       "   Pregnancies   Glucose       BMI       Age\n",
       "0     0.352941  0.670968  0.314928  0.483333\n",
       "1     0.058824  0.264516  0.171779  0.166667\n",
       "2     0.470588  0.896774  0.104294  0.183333\n",
       "3     0.058824  0.290323  0.202454  0.000000\n",
       "4     0.000000  0.600000  0.509202  0.200000"
      ]
     },
     "execution_count": 14,
     "metadata": {},
     "output_type": "execute_result"
    }
   ],
   "source": [
    "X.head()"
   ]
  },
  {
   "cell_type": "markdown",
   "id": "e506fd00",
   "metadata": {},
   "source": [
    "### <font color = 'teal'>Performing train-test split</font>"
   ]
  },
  {
   "cell_type": "code",
   "execution_count": 15,
   "id": "480230c7",
   "metadata": {},
   "outputs": [],
   "source": [
    "from sklearn.model_selection import train_test_split\n",
    "X_train,X_test,y_train,y_test = train_test_split(X,y,test_size=0.2, stratify=df_selected['Outcome'], random_state= 0)"
   ]
  },
  {
   "cell_type": "markdown",
   "id": "cc211104",
   "metadata": {},
   "source": [
    "This stratify parameter makes a split so that the proportion of values produced in the sample will be the same as the proportion of values provided to parameter stratify and thus removes biasness."
   ]
  },
  {
   "cell_type": "code",
   "execution_count": 16,
   "id": "9b1c6faa",
   "metadata": {},
   "outputs": [
    {
     "data": {
      "text/plain": [
       "((614, 4), (154, 4))"
      ]
     },
     "execution_count": 16,
     "metadata": {},
     "output_type": "execute_result"
    }
   ],
   "source": [
    "X_train.shape, X_test.shape"
   ]
  },
  {
   "cell_type": "markdown",
   "id": "1c1cfb2d",
   "metadata": {},
   "source": [
    "## <div class =\"alert alert-warning\">Classification Algorithms</div>\n",
    "\n",
    "> - Logistic Regression\n",
    "> - KNN\n",
    "> - Naive Bayes\n",
    "> - SVM\n",
    "> - Decision Tree\n",
    "> - Random Forest"
   ]
  },
  {
   "cell_type": "markdown",
   "id": "91d45534",
   "metadata": {},
   "source": [
    "### <font color = 'teal'>1. Using Logistic Regression</font>"
   ]
  },
  {
   "cell_type": "markdown",
   "id": "8ce274af",
   "metadata": {},
   "source": [
    ">In simplest terms, logistic regression is used to evaluate the likelihood of the dependent variable, which is categorical in nature, as per the independent variable."
   ]
  },
  {
   "cell_type": "code",
   "execution_count": 17,
   "id": "32ec3c2b",
   "metadata": {},
   "outputs": [
    {
     "name": "stdout",
     "output_type": "stream",
     "text": [
      "Confusion matrix:\n",
      "\n"
     ]
    },
    {
     "data": {
      "image/png": "[encoded data removed]",
      "text/plain": [
       "<Figure size 500x400 with 2 Axes>"
      ]
     },
     "metadata": {},
     "output_type": "display_data"
    },
    {
     "name": "stdout",
     "output_type": "stream",
     "text": [
      "Accuracy score for train set:  0.7638\n",
      "Accuracy score for test set:  0.7727\n",
      "Precision score:  0.7436\n",
      "Recall score:  0.537\n"
     ]
    }
   ],
   "source": [
    "from sklearn.linear_model import LogisticRegression\n",
    "from sklearn import metrics\n",
    "from sklearn.metrics import confusion_matrix\n",
    "\n",
    "\n",
    "# Instantiate the model using the default parameters\n",
    "reg = LogisticRegression()\n",
    "\n",
    "# fitting the model with data\n",
    "reg.fit(X_train, y_train)\n",
    "\n",
    "# predictions\n",
    "y_train_predicted = reg.predict(X_train)\n",
    "y_test_predicted = reg.predict(X_test)\n",
    "\n",
    "\n",
    "conf = confusion_matrix(y_test, y_test_predicted)\n",
    "print('Confusion matrix:\\n')\n",
    "plt.figure(figsize=(5,4))\n",
    "plt.rcParams['font.size'] = 10\n",
    "p = sns.heatmap(pd.DataFrame(conf), annot=True, cmap=\"Blues\")\n",
    "plt.ylabel('Target Values')\n",
    "plt.xlabel('Model Prediction')\n",
    "plt.show()\n",
    "\n",
    "\n",
    "print(\"Accuracy score for train set: \", round(metrics.accuracy_score(y_train, y_train_predicted),4))\n",
    "print (\"Accuracy score for test set: \", round(metrics.accuracy_score(y_test, y_test_predicted),4))\n",
    "print(\"Precision score: \", round(metrics.precision_score(y_test, y_test_predicted),4))\n",
    "print(\"Recall score: \", round(metrics.recall_score(y_test, y_test_predicted),4))\n",
    "\n"
   ]
  },
  {
   "cell_type": "markdown",
   "id": "48580e1f",
   "metadata": {},
   "source": [
    "> __Confusion matrix__ is a evaluation metric for ML classification problems where output can be two or more classes. __Precision__ describes how well the model can predict the labels correctly. __Recall__ describes how well the model can retrieve all the labels correctly."
   ]
  },
  {
   "cell_type": "markdown",
   "id": "7e0faef5",
   "metadata": {},
   "source": [
    "#### <font color = 'steelblue'>We get an accuracy score of 77% using Logistic Regression.</font>"
   ]
  },
  {
   "cell_type": "code",
   "execution_count": 18,
   "id": "d9322ce3",
   "metadata": {},
   "outputs": [
    {
     "name": "stdout",
     "output_type": "stream",
     "text": [
      "Classification Report for Logistic Regression:\n",
      "               precision    recall  f1-score   support\n",
      "\n",
      "           0       0.78      0.90      0.84       100\n",
      "           1       0.74      0.54      0.62        54\n",
      "\n",
      "    accuracy                           0.77       154\n",
      "   macro avg       0.76      0.72      0.73       154\n",
      "weighted avg       0.77      0.77      0.76       154\n",
      "\n",
      "F1 Score: 0.76\n"
     ]
    }
   ],
   "source": [
    "# Full report\n",
    "print(\"Classification Report for Logistic Regression:\\n\", metrics.classification_report(y_test,y_test_predicted))\n",
    "\n",
    "f1_lr = metrics.f1_score(y_test, y_test_predicted, average=\"weighted\")\n",
    "print(\"F1 Score:\", round(f1_lr,2))"
   ]
  },
  {
   "cell_type": "markdown",
   "id": "6fbdba03",
   "metadata": {},
   "source": [
    "#### <font color = 'darkslategrey'>The F1 score is slightly above the average (76%). It is an important metric since greater the value of F1 score, better the model is.</font>"
   ]
  },
  {
   "cell_type": "code",
   "execution_count": 19,
   "id": "053e1447",
   "metadata": {},
   "outputs": [],
   "source": [
    "acc_LR= round(metrics.accuracy_score(y_test, y_test_predicted),4)\n",
    "f1_LR = round(f1_lr,2)\n",
    "model_score = pd.DataFrame(columns = (\"Model\",\"Accuracy\",\"F1 score\"))\n",
    "model_score = model_score.append(pd.DataFrame({'Model':['Logistic Regression'], 'Accuracy':[acc_LR], 'F1 score':[f1_LR]}))"
   ]
  },
  {
   "cell_type": "markdown",
   "id": "c7a012c3",
   "metadata": {},
   "source": [
    "### <font color ='teal'>2. Using KNNs Algorithm</font>"
   ]
  },
  {
   "cell_type": "code",
   "execution_count": 20,
   "id": "2bd9db37",
   "metadata": {},
   "outputs": [
    {
     "data": {
      "text/plain": [
       "<matplotlib.legend.Legend at 0x1ee60a818e0>"
      ]
     },
     "execution_count": 20,
     "metadata": {},
     "output_type": "execute_result"
    },
    {
     "data": {
      "image/png": "[encoded data removed]",
      "text/plain": [
       "<Figure size 640x480 with 1 Axes>"
      ]
     },
     "metadata": {},
     "output_type": "display_data"
    }
   ],
   "source": [
    "from sklearn.neighbors import KNeighborsClassifier\n",
    "\n",
    "train_accuracy = []\n",
    "test_accuracy = []\n",
    "# try n_neighbors from 1 to 15\n",
    "neighbors_range = range(1, 16)\n",
    "\n",
    "for n_neighbors in neighbors_range:\n",
    "    # build the model\n",
    "    knn = KNeighborsClassifier(n_neighbors=n_neighbors)\n",
    "    knn.fit(X_train, y_train)\n",
    "    # record training set accuracy\n",
    "    train_accuracy.append(knn.score(X_train, y_train))\n",
    "    # record test set accuracy\n",
    "    test_accuracy.append(knn.score(X_test, y_test))\n",
    "\n",
    "plt.plot(neighbors_range, train_accuracy, marker='.', label=\"Train Accuracy\")\n",
    "plt.plot(neighbors_range, test_accuracy, marker='.', label=\"Test Accuracy\")\n",
    "plt.ylabel(\"Accuracy\")\n",
    "plt.xlabel(\"Number of Neighbors\")\n",
    "plt.legend()\n"
   ]
  },
  {
   "cell_type": "markdown",
   "id": "714e4199",
   "metadata": {},
   "source": [
    "> When more neighbors are considered, the training accuracy drops, indicating that using the single nearest neighbor leads to a model that is too complex. The best performance is obtained at n=14, i.e. the above plot suggests that we should choose __n_neighbors = 14__."
   ]
  },
  {
   "cell_type": "code",
   "execution_count": 21,
   "id": "f014b2f6",
   "metadata": {},
   "outputs": [
    {
     "name": "stdout",
     "output_type": "stream",
     "text": [
      "Accuracy on train set: 0.79\n",
      "Accuracy on test set: 0.79\n"
     ]
    }
   ],
   "source": [
    "knn = KNeighborsClassifier(n_neighbors=14)\n",
    "knn.fit(X_train, y_train)\n",
    "\n",
    "print('Accuracy on train set: {:.2f}'.format(knn.score(X_train, y_train)))\n",
    "print('Accuracy on test set: {:.2f}'.format(knn.score(X_test, y_test)))"
   ]
  },
  {
   "cell_type": "markdown",
   "id": "5830c4a4",
   "metadata": {},
   "source": [
    "#### <font color = 'steelblue'>We get an accuracy score of 79% using KNN Classifier.</font>"
   ]
  },
  {
   "cell_type": "code",
   "execution_count": 22,
   "id": "35fc3be9",
   "metadata": {},
   "outputs": [
    {
     "name": "stdout",
     "output_type": "stream",
     "text": [
      "Confusion matrix:\n",
      "\n"
     ]
    },
    {
     "data": {
      "image/png": "[encoded data removed]",
      "text/plain": [
       "<Figure size 500x400 with 2 Axes>"
      ]
     },
     "metadata": {},
     "output_type": "display_data"
    },
    {
     "name": "stdout",
     "output_type": "stream",
     "text": [
      "Precision score:  0.7561\n",
      "Recall score:  0.5741\n"
     ]
    }
   ],
   "source": [
    "# predictions\n",
    "y_test_predicted = knn.predict(X_test)\n",
    "\n",
    "\n",
    "conf = confusion_matrix(y_test, y_test_predicted)\n",
    "print('Confusion matrix:\\n')\n",
    "plt.figure(figsize=(5,4))\n",
    "plt.rcParams['font.size'] = 10\n",
    "p = sns.heatmap(pd.DataFrame(conf), annot=True, cmap=\"Blues\")\n",
    "plt.ylabel('Target Values')\n",
    "plt.xlabel('Model Prediction')\n",
    "plt.show()\n",
    "\n",
    "print(\"Precision score: \", round(metrics.precision_score(y_test, y_test_predicted),4))\n",
    "print(\"Recall score: \", round(metrics.recall_score(y_test, y_test_predicted),4))"
   ]
  },
  {
   "cell_type": "code",
   "execution_count": 23,
   "id": "1d413880",
   "metadata": {},
   "outputs": [
    {
     "name": "stdout",
     "output_type": "stream",
     "text": [
      "Classification Report for KNN Classification: \n",
      "               precision    recall  f1-score   support\n",
      "\n",
      "           0       0.80      0.90      0.85       100\n",
      "           1       0.76      0.57      0.65        54\n",
      "\n",
      "    accuracy                           0.79       154\n",
      "   macro avg       0.78      0.74      0.75       154\n",
      "weighted avg       0.78      0.79      0.78       154\n",
      "\n",
      "F1 Score: 0.78\n"
     ]
    }
   ],
   "source": [
    "# Full report\n",
    "print(\"Classification Report for KNN Classification: \\n\", metrics.classification_report(y_test,y_test_predicted))\n",
    "\n",
    "f1_knn = metrics.f1_score(y_test, y_test_predicted, average=\"weighted\")\n",
    "print(\"F1 Score:\", round(f1_knn,2))"
   ]
  },
  {
   "cell_type": "markdown",
   "id": "97907604",
   "metadata": {},
   "source": [
    "#### <font color = 'darkslategrey'>The F1 score is average (78%) .</font>"
   ]
  },
  {
   "cell_type": "code",
   "execution_count": 24,
   "id": "eeadc510",
   "metadata": {},
   "outputs": [],
   "source": [
    "acc_KNN= round(metrics.accuracy_score(y_test, y_test_predicted),4)\n",
    "f1_KNN = round(f1_knn,2)\n",
    "model_score = model_score.append(pd.DataFrame({'Model':['KNN algorithm'], 'Accuracy':[acc_KNN], 'F1 score':[f1_KNN]}))"
   ]
  },
  {
   "cell_type": "markdown",
   "id": "8dbd4491",
   "metadata": {},
   "source": [
    "### <font color = 'teal'>3. Using Naive Bayes Classification Algorithm</font>"
   ]
  },
  {
   "cell_type": "markdown",
   "id": "6bb9d448",
   "metadata": {},
   "source": [
    ">__Naive Bayes__ is classification approach that adopts the principle of class conditional independence from the Bayes Theorem. It assumes that the presence of one feature does not impact the presence of another in the probability of a given outcome, and each predictor has an equal effect on that result.\n"
   ]
  },
  {
   "cell_type": "code",
   "execution_count": 25,
   "id": "29cc2758",
   "metadata": {},
   "outputs": [
    {
     "name": "stdout",
     "output_type": "stream",
     "text": [
      "Classification Report for Naive Bayes classification: \n",
      "               precision    recall  f1-score   support\n",
      "\n",
      "           0       0.78      0.87      0.82       100\n",
      "           1       0.69      0.54      0.60        54\n",
      "\n",
      "    accuracy                           0.75       154\n",
      "   macro avg       0.73      0.70      0.71       154\n",
      "weighted avg       0.75      0.75      0.74       154\n",
      "\n",
      "Accuracy: 0.75\n",
      "F1 Score: 0.74\n"
     ]
    }
   ],
   "source": [
    "from sklearn.naive_bayes import GaussianNB\n",
    "gnb = GaussianNB()\n",
    "gnb.fit(X_train,y_train)\n",
    "y_test_predicted = gnb.predict(X_test)\n",
    "\n",
    "print(\"Classification Report for Naive Bayes classification: \\n\", metrics.classification_report(y_test,y_test_predicted))\n",
    "accuracy_nb = metrics.accuracy_score(y_test, y_test_predicted)\n",
    "f1_nb = metrics.f1_score(y_test, y_test_predicted, average=\"weighted\")\n",
    "\n",
    "print(\"Accuracy:\", round(accuracy_nb,2))\n",
    "print(\"F1 Score:\", round(f1_nb,2))"
   ]
  },
  {
   "cell_type": "markdown",
   "id": "006580f6",
   "metadata": {},
   "source": [
    "#### <font color = 'steelblue'>We get comparatively lower accuracy score (75%) and F1 score (74%) using Naive Bayes classifier.</font>"
   ]
  },
  {
   "cell_type": "code",
   "execution_count": 26,
   "id": "af1c19fa",
   "metadata": {},
   "outputs": [
    {
     "name": "stdout",
     "output_type": "stream",
     "text": [
      "Confusion matrix:\n",
      "\n"
     ]
    },
    {
     "data": {
      "image/png": "[encoded data removed]",
      "text/plain": [
       "<Figure size 500x400 with 2 Axes>"
      ]
     },
     "metadata": {},
     "output_type": "display_data"
    },
    {
     "name": "stdout",
     "output_type": "stream",
     "text": [
      "Precision score:  0.6905\n",
      "Recall score:  0.537\n"
     ]
    }
   ],
   "source": [
    "conf = confusion_matrix(y_test, y_test_predicted)\n",
    "print('Confusion matrix:\\n')\n",
    "plt.figure(figsize=(5,4))\n",
    "plt.rcParams['font.size'] = 10\n",
    "p = sns.heatmap(pd.DataFrame(conf), annot=True, cmap=\"Blues\")\n",
    "plt.ylabel('Target Values')\n",
    "plt.xlabel('Model Prediction')\n",
    "plt.show()\n",
    "\n",
    "print(\"Precision score: \", round(metrics.precision_score(y_test, y_test_predicted),4))\n",
    "print(\"Recall score: \", round(metrics.recall_score(y_test, y_test_predicted),4))"
   ]
  },
  {
   "cell_type": "markdown",
   "id": "ce3d5eee",
   "metadata": {},
   "source": [
    "> One disadvantage of this algorithm is the assumption of independent features. In practice, it is almost impossible that models will get a set of predictors which are entirely independent."
   ]
  },
  {
   "cell_type": "code",
   "execution_count": 27,
   "id": "4e0008a6",
   "metadata": {},
   "outputs": [],
   "source": [
    "acc_NB= round(accuracy_nb,4)\n",
    "f1_NB = round(f1_nb,2)\n",
    "model_score = model_score.append(pd.DataFrame({'Model':['Naive Bayes'], 'Accuracy':[acc_NB], 'F1 score':[f1_NB]}))"
   ]
  },
  {
   "cell_type": "markdown",
   "id": "5356e52d",
   "metadata": {},
   "source": [
    "### <font color = 'teal'>4. Using Support Vector Machine Algorithm</font>"
   ]
  },
  {
   "cell_type": "markdown",
   "id": "d4535457",
   "metadata": {},
   "source": [
    "> __Support Vector Machine (SVM)__ is used for both classification or regression challenges, but typically leveraged for classification problems. It constructs a hyperplane where the distance between two classes of data points is at its maximum. This hyperplane is known as the decision boundary, separating the classes of data points (e.g., person has diabetes vs doesn't have diabetes) on either side of the plane.\n",
    "\n",
    ">The data points or vectors that are the closest to the hyperplane and which affect the position of the hyperplane are termed as __Support Vector__. Since these vectors support the hyperplane, hence called a Support vector."
   ]
  },
  {
   "cell_type": "code",
   "execution_count": 28,
   "id": "db63a3d6",
   "metadata": {},
   "outputs": [
    {
     "name": "stdout",
     "output_type": "stream",
     "text": [
      "Classification Report for SVM algorithm: \n",
      "               precision    recall  f1-score   support\n",
      "\n",
      "           0       0.80      0.90      0.85       100\n",
      "           1       0.76      0.57      0.65        54\n",
      "\n",
      "    accuracy                           0.79       154\n",
      "   macro avg       0.78      0.74      0.75       154\n",
      "weighted avg       0.78      0.79      0.78       154\n",
      "\n",
      "Accuracy: 0.79\n",
      "F1 Score: 0.78\n"
     ]
    }
   ],
   "source": [
    "from sklearn.svm import SVC\n",
    "svm_model = SVC()\n",
    "svm_model.fit(X_train, y_train)\n",
    "\n",
    "y_test_predicted = svm_model.predict(X_test)\n",
    "\n",
    "print(\"Classification Report for SVM algorithm: \\n\", metrics.classification_report(y_test,y_test_predicted))\n",
    "accuracy_svm = metrics.accuracy_score(y_test, y_test_predicted)\n",
    "f1_svm = metrics.f1_score(y_test, y_test_predicted, average=\"weighted\")\n",
    "\n",
    "print(\"Accuracy:\", round(accuracy_svm,2))\n",
    "print(\"F1 Score:\", round(f1_svm,2))"
   ]
  },
  {
   "cell_type": "markdown",
   "id": "70b40b80",
   "metadata": {},
   "source": [
    "#### <font color = 'steelblue'>We get comparatively higher accuracy score (79%) and F1 score (78%) using SVM algorithm.</font>"
   ]
  },
  {
   "cell_type": "code",
   "execution_count": 29,
   "id": "eb727d4b",
   "metadata": {
    "scrolled": false
   },
   "outputs": [
    {
     "name": "stdout",
     "output_type": "stream",
     "text": [
      "Confusion matrix:\n",
      "\n"
     ]
    },
    {
     "data": {
      "image/png": "[encoded data removed]",
      "text/plain": [
       "<Figure size 500x400 with 2 Axes>"
      ]
     },
     "metadata": {},
     "output_type": "display_data"
    },
    {
     "name": "stdout",
     "output_type": "stream",
     "text": [
      "Precision score:  0.7561\n",
      "Recall score:  0.5741\n"
     ]
    }
   ],
   "source": [
    "conf = confusion_matrix(y_test, y_test_predicted)\n",
    "print('Confusion matrix:\\n')\n",
    "plt.figure(figsize=(5,4))\n",
    "plt.rcParams['font.size'] = 10\n",
    "p = sns.heatmap(pd.DataFrame(conf), annot=True, cmap=\"Blues\")\n",
    "plt.ylabel('Target Values')\n",
    "plt.xlabel('Model Prediction')\n",
    "plt.show()\n",
    "\n",
    "print(\"Precision score: \", round(metrics.precision_score(y_test, y_test_predicted),4))\n",
    "print(\"Recall score: \", round(metrics.recall_score(y_test, y_test_predicted),4))"
   ]
  },
  {
   "cell_type": "code",
   "execution_count": 30,
   "id": "9d4e961b",
   "metadata": {},
   "outputs": [],
   "source": [
    "acc_SVM= round(accuracy_svm,4)\n",
    "f1_SVM = round(f1_svm,2)\n",
    "model_score = model_score.append(pd.DataFrame({'Model':['SVM algorithm'], 'Accuracy':[acc_SVM], 'F1 score':[f1_SVM]}))"
   ]
  },
  {
   "cell_type": "markdown",
   "id": "da9d90b6",
   "metadata": {},
   "source": [
    "### <font color = 'teal'>5. Using Decision Tree Algorithm</font>"
   ]
  },
  {
   "cell_type": "code",
   "execution_count": 31,
   "id": "73b9bacc",
   "metadata": {},
   "outputs": [
    {
     "name": "stdout",
     "output_type": "stream",
     "text": [
      "Accuracy on train set: 0.83\n"
     ]
    }
   ],
   "source": [
    "from sklearn.tree import DecisionTreeClassifier\n",
    "\n",
    "dtree = DecisionTreeClassifier(max_depth=6, random_state= 42, criterion='entropy')\n",
    "dtree.fit(X_train, y_train)\n",
    "print('Accuracy on train set: {:.2f}'.format(dtree.score(X_train, y_train)))"
   ]
  },
  {
   "cell_type": "code",
   "execution_count": 32,
   "id": "632ebb2c",
   "metadata": {},
   "outputs": [
    {
     "name": "stdout",
     "output_type": "stream",
     "text": [
      "Classification Report for Decision Tree algorithm: \n",
      "               precision    recall  f1-score   support\n",
      "\n",
      "           0       0.80      0.86      0.83       100\n",
      "           1       0.70      0.59      0.64        54\n",
      "\n",
      "    accuracy                           0.77       154\n",
      "   macro avg       0.75      0.73      0.73       154\n",
      "weighted avg       0.76      0.77      0.76       154\n",
      "\n",
      "Accuracy: 0.77\n",
      "F1 Score: 0.76\n"
     ]
    }
   ],
   "source": [
    "y_test_predicted = dtree.predict(X_test)\n",
    "\n",
    "print(\"Classification Report for Decision Tree algorithm: \\n\", metrics.classification_report(y_test,y_test_predicted))\n",
    "accuracy_dt = metrics.accuracy_score(y_test, y_test_predicted)\n",
    "f1_dt = metrics.f1_score(y_test, y_test_predicted, average=\"weighted\")\n",
    "\n",
    "print(\"Accuracy:\", round(accuracy_dt,2))\n",
    "print(\"F1 Score:\", round(f1_dt,2))"
   ]
  },
  {
   "cell_type": "markdown",
   "id": "7bbd9fc8",
   "metadata": {},
   "source": [
    "#### <font color = 'steelblue'>We get an accuracy score of 77% and F1 score of 76% using the Decision Tree algorithm.</font>"
   ]
  },
  {
   "cell_type": "markdown",
   "id": "43e1631c",
   "metadata": {},
   "source": [
    "### Feature importance in Decision trees\n",
    "Feature importance rates how important each feature is for the decision a tree makes (ranges between 0 and 1)"
   ]
  },
  {
   "cell_type": "code",
   "execution_count": 33,
   "id": "3d30ce8d",
   "metadata": {},
   "outputs": [
    {
     "data": {
      "image/png": "[encoded data removed]",
      "text/plain": [
       "<Figure size 600x400 with 1 Axes>"
      ]
     },
     "metadata": {},
     "output_type": "display_data"
    }
   ],
   "source": [
    "def plot_feature_importances(model):\n",
    "    plt.figure(figsize=(6,4))\n",
    "    plt.rcParams['font.size'] = 9\n",
    "    n_features = 4\n",
    "    plt.barh(range(n_features), model.feature_importances_, align='center')\n",
    "    plt.yticks(np.arange(n_features), X.columns)\n",
    "    plt.xlabel(\"Feature importance\")\n",
    "    plt.ylabel(\"Features\")\n",
    "    plt.ylim(-1, n_features)\n",
    "\n",
    "plot_feature_importances(dtree)"
   ]
  },
  {
   "cell_type": "code",
   "execution_count": 34,
   "id": "1d8d9ea2",
   "metadata": {},
   "outputs": [
    {
     "name": "stdout",
     "output_type": "stream",
     "text": [
      "Confusion matrix:\n",
      "\n"
     ]
    },
    {
     "data": {
      "image/png": "[encoded data removed]",
      "text/plain": [
       "<Figure size 500x400 with 2 Axes>"
      ]
     },
     "metadata": {},
     "output_type": "display_data"
    },
    {
     "name": "stdout",
     "output_type": "stream",
     "text": [
      "Precision score:  0.6957\n",
      "Recall score:  0.5926\n"
     ]
    }
   ],
   "source": [
    "conf = confusion_matrix(y_test, y_test_predicted)\n",
    "print('Confusion matrix:\\n')\n",
    "plt.figure(figsize=(5,4))\n",
    "plt.rcParams['font.size'] = 10\n",
    "p = sns.heatmap(pd.DataFrame(conf), annot=True, cmap=\"Blues\")\n",
    "plt.ylabel('Target Values')\n",
    "plt.xlabel('Model Prediction')\n",
    "plt.show()\n",
    "\n",
    "print(\"Precision score: \", round(metrics.precision_score(y_test, y_test_predicted),4))\n",
    "print(\"Recall score: \", round(metrics.recall_score(y_test, y_test_predicted),4))"
   ]
  },
  {
   "cell_type": "code",
   "execution_count": 35,
   "id": "5c033b3f",
   "metadata": {},
   "outputs": [],
   "source": [
    "acc_DT= round(accuracy_dt,4)\n",
    "f1_DT = round(f1_dt,2)\n",
    "model_score = model_score.append(pd.DataFrame({'Model':['Decision Tree'], 'Accuracy':[acc_DT], 'F1 score':[f1_DT]}))"
   ]
  },
  {
   "cell_type": "markdown",
   "id": "436b8045",
   "metadata": {},
   "source": [
    "### <font color = 'teal'>6. Using Random Forest Algorithm</font>"
   ]
  },
  {
   "cell_type": "markdown",
   "id": "23991ee3",
   "metadata": {},
   "source": [
    ">Random forest classifier creates a set of decision trees from randomly selected subset of training set. It then aggregates the votes from different decision trees to decide the final class of the test object.\n",
    "\n",
    ">The \"forest\" references a collection of uncorrelated decision trees, which are then merged together to reduce variance and create more accurate data predictions. This works well because a single decision tree may be prone to error. Random forest will be having higher credibility as compared to using one decision tree. __'n_estimators'__ is the number of trees we want to build before taking the maximum voting or averages of predictions. Higher number of trees implies better performance of the model."
   ]
  },
  {
   "cell_type": "code",
   "execution_count": 36,
   "id": "bba52ff3",
   "metadata": {},
   "outputs": [
    {
     "name": "stdout",
     "output_type": "stream",
     "text": [
      "Classification Report for Random Forest Algorithm: \n",
      "               precision    recall  f1-score   support\n",
      "\n",
      "           0       0.81      0.88      0.85       100\n",
      "           1       0.74      0.63      0.68        54\n",
      "\n",
      "    accuracy                           0.79       154\n",
      "   macro avg       0.78      0.75      0.76       154\n",
      "weighted avg       0.79      0.79      0.79       154\n",
      "\n",
      "Accuracy: 0.79\n",
      "F1 Score: 0.68\n"
     ]
    }
   ],
   "source": [
    "from sklearn.ensemble import RandomForestClassifier\n",
    "\n",
    "classifier=RandomForestClassifier(n_estimators=100, random_state=0)\n",
    "classifier.fit(X_train,y_train)\n",
    "\n",
    "y_test_predicted = classifier.predict(X_test)\n",
    "\n",
    "print(\"Classification Report for Random Forest Algorithm: \\n\", metrics.classification_report(y_test,y_test_predicted))\n",
    "accuracy_rf = metrics.accuracy_score(y_test, y_test_predicted)\n",
    "f1_rf = metrics.f1_score(y_test, y_test_predicted)\n",
    "\n",
    "print(\"Accuracy:\", round(accuracy_rf,2))\n",
    "print(\"F1 Score:\", round(f1_rf,2))"
   ]
  },
  {
   "cell_type": "markdown",
   "id": "53e0899c",
   "metadata": {},
   "source": [
    "#### <font color = 'steelblue'>Although we get a higher accuracy score of 79% , the F1 score went down.</font>"
   ]
  },
  {
   "cell_type": "markdown",
   "id": "1e640cac",
   "metadata": {},
   "source": [
    "### Feature importance in Random Forest classification"
   ]
  },
  {
   "cell_type": "code",
   "execution_count": 37,
   "id": "180a98e9",
   "metadata": {},
   "outputs": [
    {
     "data": {
      "image/png": "[encoded data removed]",
      "text/plain": [
       "<Figure size 600x400 with 1 Axes>"
      ]
     },
     "metadata": {},
     "output_type": "display_data"
    }
   ],
   "source": [
    "plot_feature_importances(classifier)"
   ]
  },
  {
   "cell_type": "markdown",
   "id": "ecc8505d",
   "metadata": {},
   "source": [
    ">Similar to a single decision tree, the random forest also gives the maximum importance to the 'Glucose' feature and chooses 'BMI' to be the second most informative feature overall."
   ]
  },
  {
   "cell_type": "code",
   "execution_count": 38,
   "id": "63b54821",
   "metadata": {},
   "outputs": [
    {
     "name": "stdout",
     "output_type": "stream",
     "text": [
      "Confusion matrix:\n",
      "\n"
     ]
    },
    {
     "data": {
      "image/png": "[encoded data removed]",
      "text/plain": [
       "<Figure size 500x400 with 2 Axes>"
      ]
     },
     "metadata": {},
     "output_type": "display_data"
    },
    {
     "name": "stdout",
     "output_type": "stream",
     "text": [
      "Precision score:  0.7391\n",
      "Recall score:  0.6296\n"
     ]
    }
   ],
   "source": [
    "conf = confusion_matrix(y_test, y_test_predicted)\n",
    "print('Confusion matrix:\\n')\n",
    "plt.figure(figsize=(5,4))\n",
    "plt.rcParams['font.size'] = 10\n",
    "p = sns.heatmap(pd.DataFrame(conf), annot=True, cmap=\"Blues\")\n",
    "plt.ylabel('Target Values')\n",
    "plt.xlabel('Model Prediction')\n",
    "plt.show()\n",
    "\n",
    "print(\"Precision score: \", round(metrics.precision_score(y_test, y_test_predicted),4))\n",
    "print(\"Recall score: \", round(metrics.recall_score(y_test, y_test_predicted),4))"
   ]
  },
  {
   "cell_type": "code",
   "execution_count": 39,
   "id": "80ca61a4",
   "metadata": {},
   "outputs": [],
   "source": [
    "acc_RF= round(accuracy_rf,4)\n",
    "f1_RF = round(f1_rf,2)\n",
    "model_score = model_score.append(pd.DataFrame({'Model':['Random Forest'], 'Accuracy':[acc_RF], 'F1 score':[f1_RF]}))"
   ]
  },
  {
   "cell_type": "markdown",
   "id": "a1a502dd",
   "metadata": {},
   "source": [
    "### <font color = 'teal'>7. Building a Model Using Neural Networks</font>"
   ]
  },
  {
   "cell_type": "code",
   "execution_count": 40,
   "id": "30c34e90",
   "metadata": {},
   "outputs": [],
   "source": [
    "#Import Dependencies\n",
    "from tensorflow.keras.models import Sequential, load_model\n",
    "from tensorflow.keras.layers import Dense\n",
    "from sklearn.metrics import accuracy_score"
   ]
  },
  {
   "cell_type": "markdown",
   "id": "2fb278b5",
   "metadata": {},
   "source": [
    "Dense is used to create fully connected layers, in which every output depends on every input.\n",
    "\n",
    "Sequential() to create a model consisting of linear stack of layers with no branching and skipping. In other words, an output of a layer is the input of the next layer."
   ]
  },
  {
   "cell_type": "code",
   "execution_count": 41,
   "id": "f9979981",
   "metadata": {},
   "outputs": [],
   "source": [
    "#Build and Compile Model\n",
    "\n",
    "X_train=pd.DataFrame(X_train)\n",
    "model = Sequential()          \n",
    "model.add(Dense(units=32, activation='relu', input_dim=len(X_train.columns)))\n",
    "model.add(Dense(units=64, activation='relu'))\n",
    "model.add(Dense(units=1, activation='sigmoid'))"
   ]
  },
  {
   "cell_type": "markdown",
   "id": "6aa8b7fc",
   "metadata": {},
   "source": [
    ">__Epoch__ is he number of times the algorithm runs on the whole training dataset. __Batch__ denotes the number of samples to be taken for updating the model parameters. __Loss Function__ is the cost function used to calculate the cost, which is the difference between the predicted value and the actual value."
   ]
  },
  {
   "cell_type": "code",
   "execution_count": 43,
   "id": "9e033d5f",
   "metadata": {
    "scrolled": false
   },
   "outputs": [
    {
     "name": "stdout",
     "output_type": "stream",
     "text": [
      "Epoch 1/60\n",
      "20/20 [==============================] - 0s 966us/step - loss: 0.6860 - accuracy: 0.6173\n",
      "Epoch 2/60\n",
      "20/20 [==============================] - 0s 796us/step - loss: 0.6716 - accuracy: 0.6515\n",
      "Epoch 3/60\n",
      "20/20 [==============================] - 0s 821us/step - loss: 0.6606 - accuracy: 0.6515\n",
      "Epoch 4/60\n",
      "20/20 [==============================] - 0s 833us/step - loss: 0.6475 - accuracy: 0.6515\n",
      "Epoch 5/60\n",
      "20/20 [==============================] - 0s 901us/step - loss: 0.6343 - accuracy: 0.6531\n",
      "Epoch 6/60\n",
      "20/20 [==============================] - 0s 679us/step - loss: 0.6183 - accuracy: 0.6596\n",
      "Epoch 7/60\n",
      "20/20 [==============================] - 0s 820us/step - loss: 0.6033 - accuracy: 0.6629\n",
      "Epoch 8/60\n",
      "20/20 [==============================] - 0s 847us/step - loss: 0.5849 - accuracy: 0.7117\n",
      "Epoch 9/60\n",
      "20/20 [==============================] - 0s 826us/step - loss: 0.5627 - accuracy: 0.7117\n",
      "Epoch 10/60\n",
      "20/20 [==============================] - 0s 832us/step - loss: 0.5408 - accuracy: 0.7329\n",
      "Epoch 11/60\n",
      "20/20 [==============================] - 0s 821us/step - loss: 0.5223 - accuracy: 0.7443\n",
      "Epoch 12/60\n",
      "20/20 [==============================] - 0s 884us/step - loss: 0.5071 - accuracy: 0.7638\n",
      "Epoch 13/60\n",
      "20/20 [==============================] - 0s 749us/step - loss: 0.5055 - accuracy: 0.7508\n",
      "Epoch 14/60\n",
      "20/20 [==============================] - 0s 960us/step - loss: 0.4900 - accuracy: 0.7687\n",
      "Epoch 15/60\n",
      "20/20 [==============================] - 0s 698us/step - loss: 0.4842 - accuracy: 0.7687\n",
      "Epoch 16/60\n",
      "20/20 [==============================] - 0s 822us/step - loss: 0.4821 - accuracy: 0.7671\n",
      "Epoch 17/60\n",
      "20/20 [==============================] - 0s 822us/step - loss: 0.4819 - accuracy: 0.7655\n",
      "Epoch 18/60\n",
      "20/20 [==============================] - 0s 822us/step - loss: 0.4780 - accuracy: 0.7720\n",
      "Epoch 19/60\n",
      "20/20 [==============================] - 0s 822us/step - loss: 0.4765 - accuracy: 0.7704\n",
      "Epoch 20/60\n",
      "20/20 [==============================] - 0s 2ms/step - loss: 0.4753 - accuracy: 0.7606\n",
      "Epoch 21/60\n",
      "20/20 [==============================] - 0s 971us/step - loss: 0.4754 - accuracy: 0.7655\n",
      "Epoch 22/60\n",
      "20/20 [==============================] - 0s 985us/step - loss: 0.4736 - accuracy: 0.7769\n",
      "Epoch 23/60\n",
      "20/20 [==============================] - 0s 1ms/step - loss: 0.4738 - accuracy: 0.7720\n",
      "Epoch 24/60\n",
      "20/20 [==============================] - 0s 1ms/step - loss: 0.4709 - accuracy: 0.7720\n",
      "Epoch 25/60\n",
      "20/20 [==============================] - 0s 911us/step - loss: 0.4731 - accuracy: 0.7606\n",
      "Epoch 26/60\n",
      "20/20 [==============================] - 0s 891us/step - loss: 0.4736 - accuracy: 0.7687\n",
      "Epoch 27/60\n",
      "20/20 [==============================] - 0s 892us/step - loss: 0.4705 - accuracy: 0.7687\n",
      "Epoch 28/60\n",
      "20/20 [==============================] - 0s 717us/step - loss: 0.4719 - accuracy: 0.7720\n",
      "Epoch 29/60\n",
      "20/20 [==============================] - 0s 869us/step - loss: 0.4690 - accuracy: 0.7671\n",
      "Epoch 30/60\n",
      "20/20 [==============================] - 0s 915us/step - loss: 0.4684 - accuracy: 0.7704\n",
      "Epoch 31/60\n",
      "20/20 [==============================] - 0s 864us/step - loss: 0.4664 - accuracy: 0.7818\n",
      "Epoch 32/60\n",
      "20/20 [==============================] - 0s 920us/step - loss: 0.4652 - accuracy: 0.7720\n",
      "Epoch 33/60\n",
      "20/20 [==============================] - 0s 909us/step - loss: 0.4672 - accuracy: 0.7671\n",
      "Epoch 34/60\n",
      "20/20 [==============================] - 0s 1ms/step - loss: 0.4662 - accuracy: 0.7769\n",
      "Epoch 35/60\n",
      "20/20 [==============================] - 0s 918us/step - loss: 0.4650 - accuracy: 0.7769\n",
      "Epoch 36/60\n",
      "20/20 [==============================] - 0s 837us/step - loss: 0.4695 - accuracy: 0.7671\n",
      "Epoch 37/60\n",
      "20/20 [==============================] - 0s 925us/step - loss: 0.4676 - accuracy: 0.7704\n",
      "Epoch 38/60\n",
      "20/20 [==============================] - 0s 814us/step - loss: 0.4637 - accuracy: 0.7769\n",
      "Epoch 39/60\n",
      "20/20 [==============================] - 0s 796us/step - loss: 0.4644 - accuracy: 0.7687\n",
      "Epoch 40/60\n",
      "20/20 [==============================] - 0s 830us/step - loss: 0.4662 - accuracy: 0.7736\n",
      "Epoch 41/60\n",
      "20/20 [==============================] - 0s 888us/step - loss: 0.4627 - accuracy: 0.7687\n",
      "Epoch 42/60\n",
      "20/20 [==============================] - 0s 963us/step - loss: 0.4618 - accuracy: 0.7720\n",
      "Epoch 43/60\n",
      "20/20 [==============================] - 0s 782us/step - loss: 0.4612 - accuracy: 0.7785\n",
      "Epoch 44/60\n",
      "20/20 [==============================] - 0s 867us/step - loss: 0.4618 - accuracy: 0.7736\n",
      "Epoch 45/60\n",
      "20/20 [==============================] - 0s 757us/step - loss: 0.4610 - accuracy: 0.7801\n",
      "Epoch 46/60\n",
      "20/20 [==============================] - 0s 798us/step - loss: 0.4600 - accuracy: 0.7752\n",
      "Epoch 47/60\n",
      "20/20 [==============================] - 0s 858us/step - loss: 0.4595 - accuracy: 0.7752\n",
      "Epoch 48/60\n",
      "20/20 [==============================] - 0s 979us/step - loss: 0.4586 - accuracy: 0.7736\n",
      "Epoch 49/60\n",
      "20/20 [==============================] - 0s 783us/step - loss: 0.4587 - accuracy: 0.7736\n",
      "Epoch 50/60\n",
      "20/20 [==============================] - 0s 931us/step - loss: 0.4647 - accuracy: 0.7573\n",
      "Epoch 51/60\n",
      "20/20 [==============================] - 0s 899us/step - loss: 0.4658 - accuracy: 0.7769\n",
      "Epoch 52/60\n",
      "20/20 [==============================] - 0s 874us/step - loss: 0.4593 - accuracy: 0.7687\n",
      "Epoch 53/60\n",
      "20/20 [==============================] - 0s 840us/step - loss: 0.4586 - accuracy: 0.7818\n",
      "Epoch 54/60\n",
      "20/20 [==============================] - 0s 968us/step - loss: 0.4575 - accuracy: 0.7752\n",
      "Epoch 55/60\n",
      "20/20 [==============================] - 0s 1ms/step - loss: 0.4599 - accuracy: 0.7704\n",
      "Epoch 56/60\n",
      "20/20 [==============================] - 0s 861us/step - loss: 0.4574 - accuracy: 0.7769\n",
      "Epoch 57/60\n",
      "20/20 [==============================] - 0s 760us/step - loss: 0.4577 - accuracy: 0.7752\n",
      "Epoch 58/60\n",
      "20/20 [==============================] - 0s 883us/step - loss: 0.4570 - accuracy: 0.7752\n",
      "Epoch 59/60\n",
      "20/20 [==============================] - 0s 874us/step - loss: 0.4566 - accuracy: 0.7818\n",
      "Epoch 60/60\n",
      "20/20 [==============================] - 0s 989us/step - loss: 0.4558 - accuracy: 0.7720\n"
     ]
    },
    {
     "data": {
      "text/plain": [
       "<keras.callbacks.History at 0x1ee6be94ac0>"
      ]
     },
     "execution_count": 43,
     "metadata": {},
     "output_type": "execute_result"
    }
   ],
   "source": [
    "import keras\n",
    "optimizer = keras.optimizers.Adam(lr=0.001)\n",
    "model.compile(loss='binary_crossentropy', optimizer=optimizer, metrics='accuracy')\n",
    "\n",
    "#Fit, Predict and Evaluate\n",
    "model.fit(X_train, y_train, epochs=60, batch_size=32)"
   ]
  },
  {
   "cell_type": "code",
   "execution_count": 44,
   "id": "6ae4b7e1",
   "metadata": {},
   "outputs": [
    {
     "name": "stdout",
     "output_type": "stream",
     "text": [
      "5/5 [==============================] - 0s 2ms/step\n"
     ]
    },
    {
     "data": {
      "text/plain": [
       "0.7727"
      ]
     },
     "execution_count": 44,
     "metadata": {},
     "output_type": "execute_result"
    }
   ],
   "source": [
    "y_test_predicted = model.predict(X_test)\n",
    "y_test_predicted = [0 if val < 0.5 else 1 for val in y_test_predicted]\n",
    "round(accuracy_score(y_test, y_test_predicted),4)"
   ]
  },
  {
   "cell_type": "code",
   "execution_count": 45,
   "id": "b0f83fb0",
   "metadata": {},
   "outputs": [
    {
     "data": {
      "text/html": [
       "<div>\n",
       "<style scoped>\n",
       "    .dataframe tbody tr th:only-of-type {\n",
       "        vertical-align: middle;\n",
       "    }\n",
       "\n",
       "    .dataframe tbody tr th {\n",
       "        vertical-align: top;\n",
       "    }\n",
       "\n",
       "    .dataframe thead th {\n",
       "        text-align: right;\n",
       "    }\n",
       "</style>\n",
       "<table border=\"1\" class=\"dataframe\">\n",
       "  <thead>\n",
       "    <tr style=\"text-align: right;\">\n",
       "      <th></th>\n",
       "      <th>Model</th>\n",
       "      <th>Accuracy</th>\n",
       "      <th>F1 score</th>\n",
       "    </tr>\n",
       "  </thead>\n",
       "  <tbody>\n",
       "    <tr>\n",
       "      <th>0</th>\n",
       "      <td>Logistic Regression</td>\n",
       "      <td>0.7727</td>\n",
       "      <td>0.76</td>\n",
       "    </tr>\n",
       "    <tr>\n",
       "      <th>0</th>\n",
       "      <td>KNN algorithm</td>\n",
       "      <td>0.7857</td>\n",
       "      <td>0.78</td>\n",
       "    </tr>\n",
       "    <tr>\n",
       "      <th>0</th>\n",
       "      <td>Naive Bayes</td>\n",
       "      <td>0.7532</td>\n",
       "      <td>0.74</td>\n",
       "    </tr>\n",
       "    <tr>\n",
       "      <th>0</th>\n",
       "      <td>SVM algorithm</td>\n",
       "      <td>0.7857</td>\n",
       "      <td>0.78</td>\n",
       "    </tr>\n",
       "    <tr>\n",
       "      <th>0</th>\n",
       "      <td>Decision Tree</td>\n",
       "      <td>0.7662</td>\n",
       "      <td>0.76</td>\n",
       "    </tr>\n",
       "    <tr>\n",
       "      <th>0</th>\n",
       "      <td>Random Forest</td>\n",
       "      <td>0.7922</td>\n",
       "      <td>0.68</td>\n",
       "    </tr>\n",
       "  </tbody>\n",
       "</table>\n",
       "</div>"
      ],
      "text/plain": [
       "                 Model  Accuracy  F1 score\n",
       "0  Logistic Regression    0.7727      0.76\n",
       "0        KNN algorithm    0.7857      0.78\n",
       "0          Naive Bayes    0.7532      0.74\n",
       "0        SVM algorithm    0.7857      0.78\n",
       "0        Decision Tree    0.7662      0.76\n",
       "0        Random Forest    0.7922      0.68"
      ]
     },
     "execution_count": 45,
     "metadata": {},
     "output_type": "execute_result"
    }
   ],
   "source": [
    "# Comparison of scores\n",
    "model_score"
   ]
  },
  {
   "cell_type": "code",
   "execution_count": null,
   "id": "81bd3939",
   "metadata": {},
   "outputs": [],
   "source": []
  },
  {
   "cell_type": "code",
   "execution_count": null,
   "id": "08f9826a",
   "metadata": {},
   "outputs": [],
   "source": []
  },
  {
   "cell_type": "code",
   "execution_count": null,
   "id": "363bbc8d",
   "metadata": {},
   "outputs": [],
   "source": []
  },
  {
   "cell_type": "code",
   "execution_count": null,
   "id": "33f1f781",
   "metadata": {},
   "outputs": [],
   "source": []
  },
  {
   "cell_type": "markdown",
   "id": "523cd513",
   "metadata": {},
   "source": [
    "#### Project done by Pratiek Sarkar"
   ]
  },
  {
   "cell_type": "code",
   "execution_count": null,
   "id": "55062857",
   "metadata": {},
   "outputs": [],
   "source": []
  },
  {
   "cell_type": "code",
   "execution_count": null,
   "id": "a9eb3db9",
   "metadata": {},
   "outputs": [],
   "source": []
  }
 ],
 "metadata": {
  "kernelspec": {
   "display_name": "Python 3 (ipykernel)",
   "language": "python",
   "name": "python3"
  },
  "language_info": {
   "codemirror_mode": {
    "name": "ipython",
    "version": 3
   },
   "file_extension": ".py",
   "mimetype": "text/x-python",
   "name": "python",
   "nbconvert_exporter": "python",
   "pygments_lexer": "ipython3",
   "version": "3.9.16"
  }
 },
 "nbformat": 4,
 "nbformat_minor": 5
}
